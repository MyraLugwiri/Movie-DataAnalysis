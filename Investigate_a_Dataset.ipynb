{
 "cells": [
  {
   "cell_type": "markdown",
   "metadata": {},
   "source": [
    "\n",
    "# Project: TMDb Movie Data Analysis- TMDb Movie Dataset \n",
    "\n",
    "## Table of Contents\n",
    "<ul>\n",
    "<li><a href=\"#intro\">Introduction</a></li>\n",
    "<li><a href=\"#wrangling\">Data Wrangling</a></li>\n",
    "<li><a href=\"#eda\">Exploratory Data Analysis</a></li>\n",
    "<li><a href=\"#conclusions\">Conclusions</a></li>\n",
    "</ul>"
   ]
  },
  {
   "cell_type": "markdown",
   "metadata": {},
   "source": [
    "<a id='intro'></a>\n",
    "## Introduction\n",
    "\n",
    "### Dataset Description \n",
    "\n",
    "The dataset used for the analysis below is the TMDb movie data. The dataset contains information of approximately 10,000 movies collected from The Movie Database(TMDb), including user ratings and revenue. Having identified questions related to the dataset I am going to conduct analysis on the data to identify relevant patterns to assit answer the formulated questions.\n",
    "\n",
    ">**Glossary**\n",
    "\n",
    ">**Column-Header**\n",
    "\n",
    "<ul> \n",
    "    <li> id - Unique Identification to represent each movie and related properties.</li>\n",
    "    <li> imdb_id - Unique Identifiction in the IMDb movie database to uniquely identify each movie</li>\n",
    "    <li> Popularity - Represents the level of interest users have in a specific Movie </li>\n",
    "    <li> Budget - Represents the amount of money set aside for the creation of the movie in US Dollars</li>\n",
    "    <li>Revenue - Represents the amount of money generated after the release of the movie into the market</li>\n",
    "    <li>Original_title - The name given to a specific movie</li>\n",
    "    <li>Cast - The actors that play specific roles in the movie</li>\n",
    "    <li>Homepage -The offical website link for a specific movie</li>\n",
    "    <li>director - The individual responsible for the creative aspect of the movie</li>\n",
    "    <li>tagline - The punchline used for a specific movie</li>\n",
    "    <li> keywords - The words associated with the specific movie</li>\n",
    "    <li>overview - A brief description of the movie</li>\n",
    "    <li>runtime - The time taken to play movie from start to </li>\n",
    "    <li>genres - Category under which the movie can be classified</li>\n",
    "    <li>production_companies - The companies involved in the production of the movie</li>\n",
    "    <li>release_date - The specific date the movie was released for public viewing</li>\n",
    "    <li>vote_count - The number of total votes by users</li>\n",
    "    <li>vote_average - The average number of votes </li>\n",
    "    <li>release_year - The specific year the movie was released to be viewed by the public</li>\n",
    "    <li>budget_adj - Represents the amount of money set aside for the creation of the movie in terms of 2010 dollars, accounting for inflation over time.</li>\n",
    "    <li>revenue_adj - Represents the amount of money generated after the release of the movie into the market in terms of 2010 dollars, accounting for inflation over time.</li>\n",
    "    </ul>\n",
    "\n",
    "### Question(s) for Analysis\n",
    ">The following questions will be used to analyse the movie dataset to understand how different properties relate with one another and the answers from the analysis can be used for decision making with further necessary investigation.\n",
    "\n",
    ">Below we have the questions that will be used to analysis the dataset\n",
    "    <ol>\n",
    "        <li>Which genre has the highest release of movies?</li>\n",
    "        <li>Which year had highest budget allocated for a movie? </li>\n",
    "        <li> How does a movie's popularity relate to the budget used? </li>\n",
    "        <li> Which Actor has appeared in a large number of movies?</li>\n",
    "        <li> How does mean movie budget  relate to the mean revenue generated?</li>\n",
    "        <li> Which year had the movie with the longest and shortest runtime?</li>\n",
    "    </ol>\n",
    "\n",
    "\n",
    "> **Why these Questions**: The questions explore various variables associated with movies, and the questions aim to get specific answers and investigate the relationship between the different variables. This information can help decision-makers understand some of the variables that play a role in the success or failure of a movie released into the market and help stakeholders in the entertainment industry make well-informed decisions based on the data they have. "
   ]
  },
  {
   "cell_type": "code",
   "execution_count": 1,
   "metadata": {},
   "outputs": [],
   "source": [
    "#Importing all the necessary packages that will be used in the analysis\n",
    "import pandas as pd\n",
    "import numpy as np\n",
    "import matplotlib.pyplot as plt\n",
    "%matplotlib inline\n",
    "\n"
   ]
  },
  {
   "cell_type": "code",
   "execution_count": null,
   "metadata": {},
   "outputs": [],
   "source": [
    "# Upgrade pandas to use dataframe.explode() function. \n",
    "!pip install --upgrade pandas==0.25.0"
   ]
  },
  {
   "cell_type": "markdown",
   "metadata": {},
   "source": [
    "<a id='wrangling'></a>\n",
    "## Data Wrangling\n",
    "\n",
    ">In this section of the report, data is loaded, checked for cleanliness, and then trimmed and cleaned for analysis. \n",
    "\n",
    "\n",
    "### Exploring Dataset\n",
    "> In the section below the data is explored to understand the structure of the data and identify areas that need to be changed before any data analysis is done on the data"
   ]
  },
  {
   "cell_type": "markdown",
   "metadata": {},
   "source": [
    ">Read the dataset from the CSV and Exploring to see ensure the column heads match the glossary provided"
   ]
  },
  {
   "cell_type": "code",
   "execution_count": 2,
   "metadata": {},
   "outputs": [],
   "source": [
    "# Reading the dataset from the csv \n",
    "df = pd.read_csv(\"Database_TMDb_movie_data/tmdb-movies.csv\")"
   ]
  },
  {
   "cell_type": "code",
   "execution_count": 3,
   "metadata": {},
   "outputs": [
    {
     "data": {
      "text/html": [
       "<div>\n",
       "<style scoped>\n",
       "    .dataframe tbody tr th:only-of-type {\n",
       "        vertical-align: middle;\n",
       "    }\n",
       "\n",
       "    .dataframe tbody tr th {\n",
       "        vertical-align: top;\n",
       "    }\n",
       "\n",
       "    .dataframe thead th {\n",
       "        text-align: right;\n",
       "    }\n",
       "</style>\n",
       "<table border=\"1\" class=\"dataframe\">\n",
       "  <thead>\n",
       "    <tr style=\"text-align: right;\">\n",
       "      <th></th>\n",
       "      <th>id</th>\n",
       "      <th>imdb_id</th>\n",
       "      <th>popularity</th>\n",
       "      <th>budget</th>\n",
       "      <th>revenue</th>\n",
       "      <th>original_title</th>\n",
       "      <th>cast</th>\n",
       "      <th>homepage</th>\n",
       "      <th>director</th>\n",
       "      <th>tagline</th>\n",
       "      <th>...</th>\n",
       "      <th>overview</th>\n",
       "      <th>runtime</th>\n",
       "      <th>genres</th>\n",
       "      <th>production_companies</th>\n",
       "      <th>release_date</th>\n",
       "      <th>vote_count</th>\n",
       "      <th>vote_average</th>\n",
       "      <th>release_year</th>\n",
       "      <th>budget_adj</th>\n",
       "      <th>revenue_adj</th>\n",
       "    </tr>\n",
       "  </thead>\n",
       "  <tbody>\n",
       "    <tr>\n",
       "      <th>0</th>\n",
       "      <td>135397</td>\n",
       "      <td>tt0369610</td>\n",
       "      <td>32.985763</td>\n",
       "      <td>150000000</td>\n",
       "      <td>1513528810</td>\n",
       "      <td>Jurassic World</td>\n",
       "      <td>Chris Pratt|Bryce Dallas Howard|Irrfan Khan|Vi...</td>\n",
       "      <td>http://www.jurassicworld.com/</td>\n",
       "      <td>Colin Trevorrow</td>\n",
       "      <td>The park is open.</td>\n",
       "      <td>...</td>\n",
       "      <td>Twenty-two years after the events of Jurassic ...</td>\n",
       "      <td>124</td>\n",
       "      <td>Action|Adventure|Science Fiction|Thriller</td>\n",
       "      <td>Universal Studios|Amblin Entertainment|Legenda...</td>\n",
       "      <td>6/9/15</td>\n",
       "      <td>5562</td>\n",
       "      <td>6.5</td>\n",
       "      <td>2015</td>\n",
       "      <td>1.379999e+08</td>\n",
       "      <td>1.392446e+09</td>\n",
       "    </tr>\n",
       "    <tr>\n",
       "      <th>1</th>\n",
       "      <td>76341</td>\n",
       "      <td>tt1392190</td>\n",
       "      <td>28.419936</td>\n",
       "      <td>150000000</td>\n",
       "      <td>378436354</td>\n",
       "      <td>Mad Max: Fury Road</td>\n",
       "      <td>Tom Hardy|Charlize Theron|Hugh Keays-Byrne|Nic...</td>\n",
       "      <td>http://www.madmaxmovie.com/</td>\n",
       "      <td>George Miller</td>\n",
       "      <td>What a Lovely Day.</td>\n",
       "      <td>...</td>\n",
       "      <td>An apocalyptic story set in the furthest reach...</td>\n",
       "      <td>120</td>\n",
       "      <td>Action|Adventure|Science Fiction|Thriller</td>\n",
       "      <td>Village Roadshow Pictures|Kennedy Miller Produ...</td>\n",
       "      <td>5/13/15</td>\n",
       "      <td>6185</td>\n",
       "      <td>7.1</td>\n",
       "      <td>2015</td>\n",
       "      <td>1.379999e+08</td>\n",
       "      <td>3.481613e+08</td>\n",
       "    </tr>\n",
       "    <tr>\n",
       "      <th>2</th>\n",
       "      <td>262500</td>\n",
       "      <td>tt2908446</td>\n",
       "      <td>13.112507</td>\n",
       "      <td>110000000</td>\n",
       "      <td>295238201</td>\n",
       "      <td>Insurgent</td>\n",
       "      <td>Shailene Woodley|Theo James|Kate Winslet|Ansel...</td>\n",
       "      <td>http://www.thedivergentseries.movie/#insurgent</td>\n",
       "      <td>Robert Schwentke</td>\n",
       "      <td>One Choice Can Destroy You</td>\n",
       "      <td>...</td>\n",
       "      <td>Beatrice Prior must confront her inner demons ...</td>\n",
       "      <td>119</td>\n",
       "      <td>Adventure|Science Fiction|Thriller</td>\n",
       "      <td>Summit Entertainment|Mandeville Films|Red Wago...</td>\n",
       "      <td>3/18/15</td>\n",
       "      <td>2480</td>\n",
       "      <td>6.3</td>\n",
       "      <td>2015</td>\n",
       "      <td>1.012000e+08</td>\n",
       "      <td>2.716190e+08</td>\n",
       "    </tr>\n",
       "    <tr>\n",
       "      <th>3</th>\n",
       "      <td>140607</td>\n",
       "      <td>tt2488496</td>\n",
       "      <td>11.173104</td>\n",
       "      <td>200000000</td>\n",
       "      <td>2068178225</td>\n",
       "      <td>Star Wars: The Force Awakens</td>\n",
       "      <td>Harrison Ford|Mark Hamill|Carrie Fisher|Adam D...</td>\n",
       "      <td>http://www.starwars.com/films/star-wars-episod...</td>\n",
       "      <td>J.J. Abrams</td>\n",
       "      <td>Every generation has a story.</td>\n",
       "      <td>...</td>\n",
       "      <td>Thirty years after defeating the Galactic Empi...</td>\n",
       "      <td>136</td>\n",
       "      <td>Action|Adventure|Science Fiction|Fantasy</td>\n",
       "      <td>Lucasfilm|Truenorth Productions|Bad Robot</td>\n",
       "      <td>12/15/15</td>\n",
       "      <td>5292</td>\n",
       "      <td>7.5</td>\n",
       "      <td>2015</td>\n",
       "      <td>1.839999e+08</td>\n",
       "      <td>1.902723e+09</td>\n",
       "    </tr>\n",
       "    <tr>\n",
       "      <th>4</th>\n",
       "      <td>168259</td>\n",
       "      <td>tt2820852</td>\n",
       "      <td>9.335014</td>\n",
       "      <td>190000000</td>\n",
       "      <td>1506249360</td>\n",
       "      <td>Furious 7</td>\n",
       "      <td>Vin Diesel|Paul Walker|Jason Statham|Michelle ...</td>\n",
       "      <td>http://www.furious7.com/</td>\n",
       "      <td>James Wan</td>\n",
       "      <td>Vengeance Hits Home</td>\n",
       "      <td>...</td>\n",
       "      <td>Deckard Shaw seeks revenge against Dominic Tor...</td>\n",
       "      <td>137</td>\n",
       "      <td>Action|Crime|Thriller</td>\n",
       "      <td>Universal Pictures|Original Film|Media Rights ...</td>\n",
       "      <td>4/1/15</td>\n",
       "      <td>2947</td>\n",
       "      <td>7.3</td>\n",
       "      <td>2015</td>\n",
       "      <td>1.747999e+08</td>\n",
       "      <td>1.385749e+09</td>\n",
       "    </tr>\n",
       "  </tbody>\n",
       "</table>\n",
       "<p>5 rows × 21 columns</p>\n",
       "</div>"
      ],
      "text/plain": [
       "       id    imdb_id  popularity     budget     revenue  \\\n",
       "0  135397  tt0369610   32.985763  150000000  1513528810   \n",
       "1   76341  tt1392190   28.419936  150000000   378436354   \n",
       "2  262500  tt2908446   13.112507  110000000   295238201   \n",
       "3  140607  tt2488496   11.173104  200000000  2068178225   \n",
       "4  168259  tt2820852    9.335014  190000000  1506249360   \n",
       "\n",
       "                 original_title  \\\n",
       "0                Jurassic World   \n",
       "1            Mad Max: Fury Road   \n",
       "2                     Insurgent   \n",
       "3  Star Wars: The Force Awakens   \n",
       "4                     Furious 7   \n",
       "\n",
       "                                                cast  \\\n",
       "0  Chris Pratt|Bryce Dallas Howard|Irrfan Khan|Vi...   \n",
       "1  Tom Hardy|Charlize Theron|Hugh Keays-Byrne|Nic...   \n",
       "2  Shailene Woodley|Theo James|Kate Winslet|Ansel...   \n",
       "3  Harrison Ford|Mark Hamill|Carrie Fisher|Adam D...   \n",
       "4  Vin Diesel|Paul Walker|Jason Statham|Michelle ...   \n",
       "\n",
       "                                            homepage          director  \\\n",
       "0                      http://www.jurassicworld.com/   Colin Trevorrow   \n",
       "1                        http://www.madmaxmovie.com/     George Miller   \n",
       "2     http://www.thedivergentseries.movie/#insurgent  Robert Schwentke   \n",
       "3  http://www.starwars.com/films/star-wars-episod...       J.J. Abrams   \n",
       "4                           http://www.furious7.com/         James Wan   \n",
       "\n",
       "                         tagline      ...       \\\n",
       "0              The park is open.      ...        \n",
       "1             What a Lovely Day.      ...        \n",
       "2     One Choice Can Destroy You      ...        \n",
       "3  Every generation has a story.      ...        \n",
       "4            Vengeance Hits Home      ...        \n",
       "\n",
       "                                            overview runtime  \\\n",
       "0  Twenty-two years after the events of Jurassic ...     124   \n",
       "1  An apocalyptic story set in the furthest reach...     120   \n",
       "2  Beatrice Prior must confront her inner demons ...     119   \n",
       "3  Thirty years after defeating the Galactic Empi...     136   \n",
       "4  Deckard Shaw seeks revenge against Dominic Tor...     137   \n",
       "\n",
       "                                      genres  \\\n",
       "0  Action|Adventure|Science Fiction|Thriller   \n",
       "1  Action|Adventure|Science Fiction|Thriller   \n",
       "2         Adventure|Science Fiction|Thriller   \n",
       "3   Action|Adventure|Science Fiction|Fantasy   \n",
       "4                      Action|Crime|Thriller   \n",
       "\n",
       "                                production_companies release_date vote_count  \\\n",
       "0  Universal Studios|Amblin Entertainment|Legenda...       6/9/15       5562   \n",
       "1  Village Roadshow Pictures|Kennedy Miller Produ...      5/13/15       6185   \n",
       "2  Summit Entertainment|Mandeville Films|Red Wago...      3/18/15       2480   \n",
       "3          Lucasfilm|Truenorth Productions|Bad Robot     12/15/15       5292   \n",
       "4  Universal Pictures|Original Film|Media Rights ...       4/1/15       2947   \n",
       "\n",
       "   vote_average  release_year    budget_adj   revenue_adj  \n",
       "0           6.5          2015  1.379999e+08  1.392446e+09  \n",
       "1           7.1          2015  1.379999e+08  3.481613e+08  \n",
       "2           6.3          2015  1.012000e+08  2.716190e+08  \n",
       "3           7.5          2015  1.839999e+08  1.902723e+09  \n",
       "4           7.3          2015  1.747999e+08  1.385749e+09  \n",
       "\n",
       "[5 rows x 21 columns]"
      ]
     },
     "execution_count": 3,
     "metadata": {},
     "output_type": "execute_result"
    }
   ],
   "source": [
    "# Displaying the first 5 rows of the data to see the structure of the column headings and the sample data in each column\n",
    "df.head()"
   ]
  },
  {
   "cell_type": "code",
   "execution_count": 4,
   "metadata": {},
   "outputs": [
    {
     "data": {
      "text/plain": [
       "(10866, 21)"
      ]
     },
     "execution_count": 4,
     "metadata": {},
     "output_type": "execute_result"
    }
   ],
   "source": [
    "#Establish the number of columns and rows in the dataset\n",
    "df.shape"
   ]
  },
  {
   "cell_type": "markdown",
   "metadata": {},
   "source": [
    "> We have 10866 columns and 21 rows"
   ]
  },
  {
   "cell_type": "code",
   "execution_count": 5,
   "metadata": {},
   "outputs": [
    {
     "data": {
      "text/html": [
       "<div>\n",
       "<style scoped>\n",
       "    .dataframe tbody tr th:only-of-type {\n",
       "        vertical-align: middle;\n",
       "    }\n",
       "\n",
       "    .dataframe tbody tr th {\n",
       "        vertical-align: top;\n",
       "    }\n",
       "\n",
       "    .dataframe thead th {\n",
       "        text-align: right;\n",
       "    }\n",
       "</style>\n",
       "<table border=\"1\" class=\"dataframe\">\n",
       "  <thead>\n",
       "    <tr style=\"text-align: right;\">\n",
       "      <th></th>\n",
       "      <th>id</th>\n",
       "      <th>popularity</th>\n",
       "      <th>budget</th>\n",
       "      <th>revenue</th>\n",
       "      <th>runtime</th>\n",
       "      <th>vote_count</th>\n",
       "      <th>vote_average</th>\n",
       "      <th>release_year</th>\n",
       "      <th>budget_adj</th>\n",
       "      <th>revenue_adj</th>\n",
       "    </tr>\n",
       "  </thead>\n",
       "  <tbody>\n",
       "    <tr>\n",
       "      <th>count</th>\n",
       "      <td>10866.000000</td>\n",
       "      <td>10866.000000</td>\n",
       "      <td>1.086600e+04</td>\n",
       "      <td>1.086600e+04</td>\n",
       "      <td>10866.000000</td>\n",
       "      <td>10866.000000</td>\n",
       "      <td>10866.000000</td>\n",
       "      <td>10866.000000</td>\n",
       "      <td>1.086600e+04</td>\n",
       "      <td>1.086600e+04</td>\n",
       "    </tr>\n",
       "    <tr>\n",
       "      <th>mean</th>\n",
       "      <td>66064.177434</td>\n",
       "      <td>0.646441</td>\n",
       "      <td>1.462570e+07</td>\n",
       "      <td>3.982332e+07</td>\n",
       "      <td>102.070863</td>\n",
       "      <td>217.389748</td>\n",
       "      <td>5.974922</td>\n",
       "      <td>2001.322658</td>\n",
       "      <td>1.755104e+07</td>\n",
       "      <td>5.136436e+07</td>\n",
       "    </tr>\n",
       "    <tr>\n",
       "      <th>std</th>\n",
       "      <td>92130.136561</td>\n",
       "      <td>1.000185</td>\n",
       "      <td>3.091321e+07</td>\n",
       "      <td>1.170035e+08</td>\n",
       "      <td>31.381405</td>\n",
       "      <td>575.619058</td>\n",
       "      <td>0.935142</td>\n",
       "      <td>12.812941</td>\n",
       "      <td>3.430616e+07</td>\n",
       "      <td>1.446325e+08</td>\n",
       "    </tr>\n",
       "    <tr>\n",
       "      <th>min</th>\n",
       "      <td>5.000000</td>\n",
       "      <td>0.000065</td>\n",
       "      <td>0.000000e+00</td>\n",
       "      <td>0.000000e+00</td>\n",
       "      <td>0.000000</td>\n",
       "      <td>10.000000</td>\n",
       "      <td>1.500000</td>\n",
       "      <td>1960.000000</td>\n",
       "      <td>0.000000e+00</td>\n",
       "      <td>0.000000e+00</td>\n",
       "    </tr>\n",
       "    <tr>\n",
       "      <th>25%</th>\n",
       "      <td>10596.250000</td>\n",
       "      <td>0.207583</td>\n",
       "      <td>0.000000e+00</td>\n",
       "      <td>0.000000e+00</td>\n",
       "      <td>90.000000</td>\n",
       "      <td>17.000000</td>\n",
       "      <td>5.400000</td>\n",
       "      <td>1995.000000</td>\n",
       "      <td>0.000000e+00</td>\n",
       "      <td>0.000000e+00</td>\n",
       "    </tr>\n",
       "    <tr>\n",
       "      <th>50%</th>\n",
       "      <td>20669.000000</td>\n",
       "      <td>0.383856</td>\n",
       "      <td>0.000000e+00</td>\n",
       "      <td>0.000000e+00</td>\n",
       "      <td>99.000000</td>\n",
       "      <td>38.000000</td>\n",
       "      <td>6.000000</td>\n",
       "      <td>2006.000000</td>\n",
       "      <td>0.000000e+00</td>\n",
       "      <td>0.000000e+00</td>\n",
       "    </tr>\n",
       "    <tr>\n",
       "      <th>75%</th>\n",
       "      <td>75610.000000</td>\n",
       "      <td>0.713817</td>\n",
       "      <td>1.500000e+07</td>\n",
       "      <td>2.400000e+07</td>\n",
       "      <td>111.000000</td>\n",
       "      <td>145.750000</td>\n",
       "      <td>6.600000</td>\n",
       "      <td>2011.000000</td>\n",
       "      <td>2.085325e+07</td>\n",
       "      <td>3.369710e+07</td>\n",
       "    </tr>\n",
       "    <tr>\n",
       "      <th>max</th>\n",
       "      <td>417859.000000</td>\n",
       "      <td>32.985763</td>\n",
       "      <td>4.250000e+08</td>\n",
       "      <td>2.781506e+09</td>\n",
       "      <td>900.000000</td>\n",
       "      <td>9767.000000</td>\n",
       "      <td>9.200000</td>\n",
       "      <td>2015.000000</td>\n",
       "      <td>4.250000e+08</td>\n",
       "      <td>2.827124e+09</td>\n",
       "    </tr>\n",
       "  </tbody>\n",
       "</table>\n",
       "</div>"
      ],
      "text/plain": [
       "                  id    popularity        budget       revenue       runtime  \\\n",
       "count   10866.000000  10866.000000  1.086600e+04  1.086600e+04  10866.000000   \n",
       "mean    66064.177434      0.646441  1.462570e+07  3.982332e+07    102.070863   \n",
       "std     92130.136561      1.000185  3.091321e+07  1.170035e+08     31.381405   \n",
       "min         5.000000      0.000065  0.000000e+00  0.000000e+00      0.000000   \n",
       "25%     10596.250000      0.207583  0.000000e+00  0.000000e+00     90.000000   \n",
       "50%     20669.000000      0.383856  0.000000e+00  0.000000e+00     99.000000   \n",
       "75%     75610.000000      0.713817  1.500000e+07  2.400000e+07    111.000000   \n",
       "max    417859.000000     32.985763  4.250000e+08  2.781506e+09    900.000000   \n",
       "\n",
       "         vote_count  vote_average  release_year    budget_adj   revenue_adj  \n",
       "count  10866.000000  10866.000000  10866.000000  1.086600e+04  1.086600e+04  \n",
       "mean     217.389748      5.974922   2001.322658  1.755104e+07  5.136436e+07  \n",
       "std      575.619058      0.935142     12.812941  3.430616e+07  1.446325e+08  \n",
       "min       10.000000      1.500000   1960.000000  0.000000e+00  0.000000e+00  \n",
       "25%       17.000000      5.400000   1995.000000  0.000000e+00  0.000000e+00  \n",
       "50%       38.000000      6.000000   2006.000000  0.000000e+00  0.000000e+00  \n",
       "75%      145.750000      6.600000   2011.000000  2.085325e+07  3.369710e+07  \n",
       "max     9767.000000      9.200000   2015.000000  4.250000e+08  2.827124e+09  "
      ]
     },
     "execution_count": 5,
     "metadata": {},
     "output_type": "execute_result"
    }
   ],
   "source": [
    "#Using the describe method to understand the broad strokes of dataset using the summary statistics for numerical columns\n",
    "df.describe()"
   ]
  },
  {
   "cell_type": "markdown",
   "metadata": {},
   "source": [
    ">The summary statistics on the ID will not provide any insight to the posed questions in the introduction section this is because ID is a unique identification number hence only the count can help validate the outcome of the shape method output above where we have 10866 rows\n",
    "\n",
    ">From the count summary for all the columns, it indicates that we have no column with a missing value, but we have to further investigate and understand if the data filled in each column is the correct input \n",
    "\n",
    ">We have movies with zero budget and zero revenue generated this could indicate the values were not entered because \n",
    "realistically speaking costs are incurred in the production of a given movie and losses are made if no revenue is generated."
   ]
  },
  {
   "cell_type": "code",
   "execution_count": 6,
   "metadata": {},
   "outputs": [
    {
     "data": {
      "text/plain": [
       "id                      10865\n",
       "imdb_id                 10855\n",
       "popularity              10814\n",
       "budget                    557\n",
       "revenue                  4702\n",
       "original_title          10571\n",
       "cast                    10719\n",
       "homepage                 2896\n",
       "director                 5067\n",
       "tagline                  7997\n",
       "keywords                 8804\n",
       "overview                10847\n",
       "runtime                   247\n",
       "genres                   2039\n",
       "production_companies     7445\n",
       "release_date             5909\n",
       "vote_count               1289\n",
       "vote_average               72\n",
       "release_year               56\n",
       "budget_adj               2614\n",
       "revenue_adj              4840\n",
       "dtype: int64"
      ]
     },
     "execution_count": 6,
     "metadata": {},
     "output_type": "execute_result"
    }
   ],
   "source": [
    "# Check for unique column values\n",
    "df.nunique()\n"
   ]
  },
  {
   "cell_type": "markdown",
   "metadata": {},
   "source": [
    "> From the identification of unique variables in each column we can see we have a large number of columns with missing a lot of data "
   ]
  },
  {
   "cell_type": "code",
   "execution_count": 7,
   "metadata": {},
   "outputs": [
    {
     "data": {
      "text/plain": [
       "1"
      ]
     },
     "execution_count": 7,
     "metadata": {},
     "output_type": "execute_result"
    }
   ],
   "source": [
    "# Checking for duplicated values in the dataset\n",
    "df.duplicated().sum()"
   ]
  },
  {
   "cell_type": "markdown",
   "metadata": {},
   "source": [
    "> From the above output we only have 1 value duplicated."
   ]
  },
  {
   "cell_type": "code",
   "execution_count": 8,
   "metadata": {},
   "outputs": [
    {
     "name": "stdout",
     "output_type": "stream",
     "text": [
      "<class 'pandas.core.frame.DataFrame'>\n",
      "RangeIndex: 10866 entries, 0 to 10865\n",
      "Data columns (total 21 columns):\n",
      "id                      10866 non-null int64\n",
      "imdb_id                 10856 non-null object\n",
      "popularity              10866 non-null float64\n",
      "budget                  10866 non-null int64\n",
      "revenue                 10866 non-null int64\n",
      "original_title          10866 non-null object\n",
      "cast                    10790 non-null object\n",
      "homepage                2936 non-null object\n",
      "director                10822 non-null object\n",
      "tagline                 8042 non-null object\n",
      "keywords                9373 non-null object\n",
      "overview                10862 non-null object\n",
      "runtime                 10866 non-null int64\n",
      "genres                  10843 non-null object\n",
      "production_companies    9836 non-null object\n",
      "release_date            10866 non-null object\n",
      "vote_count              10866 non-null int64\n",
      "vote_average            10866 non-null float64\n",
      "release_year            10866 non-null int64\n",
      "budget_adj              10866 non-null float64\n",
      "revenue_adj             10866 non-null float64\n",
      "dtypes: float64(4), int64(6), object(11)\n",
      "memory usage: 1.7+ MB\n"
     ]
    }
   ],
   "source": [
    "#Identifying the datatypes to ensure that the dataset has the data in the correct datatype and identify the number \n",
    "#of missing values\n",
    "df.info()"
   ]
  },
  {
   "cell_type": "markdown",
   "metadata": {},
   "source": [
    ">**Missing Values:** After getting more information on the datatypes and the total number of non-null cells in the dataset the following data columns have missing values \n",
    "    <ul>\n",
    "        <li> imdb_id </li>\n",
    "        <li> cast </li>\n",
    "        <li> homepage </li>\n",
    "        <li> director</li>\n",
    "        <li> tagline </li>\n",
    "        <li> keywords </li>\n",
    "        <li> overview </li>\n",
    "        <li> genres </li>\n",
    "        <li> production_companies </li>\n",
    "    </ul>\n",
    "\n",
    ">Certain columns will be removed because they do not add any significance or play a role to answering to the question asked. The following columns will be removed:\n",
    "    <ul>\n",
    "        <li> homepage </li>\n",
    "        <li> tagline </li>\n",
    "        <li> keywords </li>\n",
    "        <li> overview </li>\n",
    "        <li> imbd_id </li>\n",
    "    </ul>\n",
    "\n",
    ">The above columns do not directly answer or play a role in answering the questions posed. E.g the imdb_id column is very movie specific it does not provide any insight to the questions asked and the movie it identifies.\n",
    ">We will have columns that will be removed completely and rows that will be dropped if they have null values.\n",
    "    \n",
    "    "
   ]
  },
  {
   "cell_type": "markdown",
   "metadata": {},
   "source": [
    ">**DataType:** From the info displayed the datatype for release_date is integer which will have to be changed to datetime data type\n",
    "> The data type for the release_year is string which will have to be converted to date type"
   ]
  },
  {
   "cell_type": "code",
   "execution_count": 9,
   "metadata": {},
   "outputs": [
    {
     "name": "stdout",
     "output_type": "stream",
     "text": [
      "6016\n",
      "5696\n"
     ]
    }
   ],
   "source": [
    "#Checking the number of '0' we have in the budget and revenue column\n",
    "print(df[(df[\"revenue_adj\"] == 0)].shape[0])\n",
    "print(df[(df[\"budget_adj\"] == 0)].shape[0])\n"
   ]
  },
  {
   "cell_type": "markdown",
   "metadata": {},
   "source": [
    "> We have a large number of zeros in the revenue and budget columns and this could be due to various reason such as the information may not be available, or errors occured during the data entry process hence the presence of the zero. Hence due to the large number I will not drop the the values but will replace the zeros with NaN where applicable when using the columns for analysis"
   ]
  },
  {
   "cell_type": "markdown",
   "metadata": {},
   "source": [
    "\n",
    "### Data Cleaning\n",
    "> **Cleaning Process**: Below we are going to make changes to the dataset based on the issues identified in the section above on areas that need to changed before proceeding with the analysis.\n",
    "\n",
    "> In the cleaning section will be making the following changes:\n",
    "    <ul>\n",
    "        <li>dropping the columns that will not be used in the analysis</li>\n",
    "        <li>dropping all the null rows from the dataset</li>\n",
    "        <li>removing columns with incorrect data</li> \n",
    "    </ul>\n",
    "\n",
    " "
   ]
  },
  {
   "cell_type": "code",
   "execution_count": 9,
   "metadata": {},
   "outputs": [
    {
     "data": {
      "text/html": [
       "<div>\n",
       "<style scoped>\n",
       "    .dataframe tbody tr th:only-of-type {\n",
       "        vertical-align: middle;\n",
       "    }\n",
       "\n",
       "    .dataframe tbody tr th {\n",
       "        vertical-align: top;\n",
       "    }\n",
       "\n",
       "    .dataframe thead th {\n",
       "        text-align: right;\n",
       "    }\n",
       "</style>\n",
       "<table border=\"1\" class=\"dataframe\">\n",
       "  <thead>\n",
       "    <tr style=\"text-align: right;\">\n",
       "      <th></th>\n",
       "      <th>popularity</th>\n",
       "      <th>budget</th>\n",
       "      <th>revenue</th>\n",
       "      <th>original_title</th>\n",
       "      <th>cast</th>\n",
       "      <th>director</th>\n",
       "      <th>runtime</th>\n",
       "      <th>genres</th>\n",
       "      <th>production_companies</th>\n",
       "      <th>release_date</th>\n",
       "      <th>vote_count</th>\n",
       "      <th>vote_average</th>\n",
       "      <th>release_year</th>\n",
       "      <th>budget_adj</th>\n",
       "      <th>revenue_adj</th>\n",
       "    </tr>\n",
       "  </thead>\n",
       "  <tbody>\n",
       "    <tr>\n",
       "      <th>0</th>\n",
       "      <td>32.985763</td>\n",
       "      <td>150000000</td>\n",
       "      <td>1513528810</td>\n",
       "      <td>Jurassic World</td>\n",
       "      <td>Chris Pratt|Bryce Dallas Howard|Irrfan Khan|Vi...</td>\n",
       "      <td>Colin Trevorrow</td>\n",
       "      <td>124</td>\n",
       "      <td>Action|Adventure|Science Fiction|Thriller</td>\n",
       "      <td>Universal Studios|Amblin Entertainment|Legenda...</td>\n",
       "      <td>6/9/15</td>\n",
       "      <td>5562</td>\n",
       "      <td>6.5</td>\n",
       "      <td>2015</td>\n",
       "      <td>1.379999e+08</td>\n",
       "      <td>1.392446e+09</td>\n",
       "    </tr>\n",
       "    <tr>\n",
       "      <th>1</th>\n",
       "      <td>28.419936</td>\n",
       "      <td>150000000</td>\n",
       "      <td>378436354</td>\n",
       "      <td>Mad Max: Fury Road</td>\n",
       "      <td>Tom Hardy|Charlize Theron|Hugh Keays-Byrne|Nic...</td>\n",
       "      <td>George Miller</td>\n",
       "      <td>120</td>\n",
       "      <td>Action|Adventure|Science Fiction|Thriller</td>\n",
       "      <td>Village Roadshow Pictures|Kennedy Miller Produ...</td>\n",
       "      <td>5/13/15</td>\n",
       "      <td>6185</td>\n",
       "      <td>7.1</td>\n",
       "      <td>2015</td>\n",
       "      <td>1.379999e+08</td>\n",
       "      <td>3.481613e+08</td>\n",
       "    </tr>\n",
       "    <tr>\n",
       "      <th>2</th>\n",
       "      <td>13.112507</td>\n",
       "      <td>110000000</td>\n",
       "      <td>295238201</td>\n",
       "      <td>Insurgent</td>\n",
       "      <td>Shailene Woodley|Theo James|Kate Winslet|Ansel...</td>\n",
       "      <td>Robert Schwentke</td>\n",
       "      <td>119</td>\n",
       "      <td>Adventure|Science Fiction|Thriller</td>\n",
       "      <td>Summit Entertainment|Mandeville Films|Red Wago...</td>\n",
       "      <td>3/18/15</td>\n",
       "      <td>2480</td>\n",
       "      <td>6.3</td>\n",
       "      <td>2015</td>\n",
       "      <td>1.012000e+08</td>\n",
       "      <td>2.716190e+08</td>\n",
       "    </tr>\n",
       "    <tr>\n",
       "      <th>3</th>\n",
       "      <td>11.173104</td>\n",
       "      <td>200000000</td>\n",
       "      <td>2068178225</td>\n",
       "      <td>Star Wars: The Force Awakens</td>\n",
       "      <td>Harrison Ford|Mark Hamill|Carrie Fisher|Adam D...</td>\n",
       "      <td>J.J. Abrams</td>\n",
       "      <td>136</td>\n",
       "      <td>Action|Adventure|Science Fiction|Fantasy</td>\n",
       "      <td>Lucasfilm|Truenorth Productions|Bad Robot</td>\n",
       "      <td>12/15/15</td>\n",
       "      <td>5292</td>\n",
       "      <td>7.5</td>\n",
       "      <td>2015</td>\n",
       "      <td>1.839999e+08</td>\n",
       "      <td>1.902723e+09</td>\n",
       "    </tr>\n",
       "    <tr>\n",
       "      <th>4</th>\n",
       "      <td>9.335014</td>\n",
       "      <td>190000000</td>\n",
       "      <td>1506249360</td>\n",
       "      <td>Furious 7</td>\n",
       "      <td>Vin Diesel|Paul Walker|Jason Statham|Michelle ...</td>\n",
       "      <td>James Wan</td>\n",
       "      <td>137</td>\n",
       "      <td>Action|Crime|Thriller</td>\n",
       "      <td>Universal Pictures|Original Film|Media Rights ...</td>\n",
       "      <td>4/1/15</td>\n",
       "      <td>2947</td>\n",
       "      <td>7.3</td>\n",
       "      <td>2015</td>\n",
       "      <td>1.747999e+08</td>\n",
       "      <td>1.385749e+09</td>\n",
       "    </tr>\n",
       "  </tbody>\n",
       "</table>\n",
       "</div>"
      ],
      "text/plain": [
       "   popularity     budget     revenue                original_title  \\\n",
       "0   32.985763  150000000  1513528810                Jurassic World   \n",
       "1   28.419936  150000000   378436354            Mad Max: Fury Road   \n",
       "2   13.112507  110000000   295238201                     Insurgent   \n",
       "3   11.173104  200000000  2068178225  Star Wars: The Force Awakens   \n",
       "4    9.335014  190000000  1506249360                     Furious 7   \n",
       "\n",
       "                                                cast          director  \\\n",
       "0  Chris Pratt|Bryce Dallas Howard|Irrfan Khan|Vi...   Colin Trevorrow   \n",
       "1  Tom Hardy|Charlize Theron|Hugh Keays-Byrne|Nic...     George Miller   \n",
       "2  Shailene Woodley|Theo James|Kate Winslet|Ansel...  Robert Schwentke   \n",
       "3  Harrison Ford|Mark Hamill|Carrie Fisher|Adam D...       J.J. Abrams   \n",
       "4  Vin Diesel|Paul Walker|Jason Statham|Michelle ...         James Wan   \n",
       "\n",
       "   runtime                                     genres  \\\n",
       "0      124  Action|Adventure|Science Fiction|Thriller   \n",
       "1      120  Action|Adventure|Science Fiction|Thriller   \n",
       "2      119         Adventure|Science Fiction|Thriller   \n",
       "3      136   Action|Adventure|Science Fiction|Fantasy   \n",
       "4      137                      Action|Crime|Thriller   \n",
       "\n",
       "                                production_companies release_date  vote_count  \\\n",
       "0  Universal Studios|Amblin Entertainment|Legenda...       6/9/15        5562   \n",
       "1  Village Roadshow Pictures|Kennedy Miller Produ...      5/13/15        6185   \n",
       "2  Summit Entertainment|Mandeville Films|Red Wago...      3/18/15        2480   \n",
       "3          Lucasfilm|Truenorth Productions|Bad Robot     12/15/15        5292   \n",
       "4  Universal Pictures|Original Film|Media Rights ...       4/1/15        2947   \n",
       "\n",
       "   vote_average  release_year    budget_adj   revenue_adj  \n",
       "0           6.5          2015  1.379999e+08  1.392446e+09  \n",
       "1           7.1          2015  1.379999e+08  3.481613e+08  \n",
       "2           6.3          2015  1.012000e+08  2.716190e+08  \n",
       "3           7.5          2015  1.839999e+08  1.902723e+09  \n",
       "4           7.3          2015  1.747999e+08  1.385749e+09  "
      ]
     },
     "execution_count": 9,
     "metadata": {},
     "output_type": "execute_result"
    }
   ],
   "source": [
    "# Dropping the columns that will not be used in the analysis\n",
    "# These columns are dropped because they will not be used in the analysis as no questions do not directly require these columns\n",
    "# to arrive at an answer\n",
    "df.drop(columns=[\"homepage\", \"tagline\", \"keywords\", \"overview\", \"imdb_id\", \"id\"], inplace=True)\n",
    "\n",
    "# Checking the first 5 rows to see if the columns were removed from the dataframe\n",
    "df.head()"
   ]
  },
  {
   "cell_type": "markdown",
   "metadata": {},
   "source": [
    ">From the output above we can see that all the columns that were supposed to be dropped from the code before the output have been dropped and the dataframe df now does not contain those columns."
   ]
  },
  {
   "cell_type": "code",
   "execution_count": 12,
   "metadata": {},
   "outputs": [],
   "source": [
    "# The column release_date will also be removed because we have the release_year also provided in full instead of the release_date\n",
    "# whereby to identify the year we rely on checking the release_year column\n",
    "\n",
    "# Dropping the column\n",
    "df.drop(columns=[\"release_date\"], inplace=True)\n"
   ]
  },
  {
   "cell_type": "code",
   "execution_count": null,
   "metadata": {},
   "outputs": [],
   "source": []
  },
  {
   "cell_type": "markdown",
   "metadata": {},
   "source": [
    "> From the short overview provided with the data it indicates the budget_adj and revenue_adj columns show the budget and revenue for each movie in terms of the 2010 US dollar accounting for the inflation over time. Hence the columns budget and revenue will be removed to work with the budget_adj and revenue_adj which take into account the inflation over time hence provide values that reflect the actual economy situation"
   ]
  },
  {
   "cell_type": "code",
   "execution_count": 10,
   "metadata": {},
   "outputs": [
    {
     "data": {
      "text/html": [
       "<div>\n",
       "<style scoped>\n",
       "    .dataframe tbody tr th:only-of-type {\n",
       "        vertical-align: middle;\n",
       "    }\n",
       "\n",
       "    .dataframe tbody tr th {\n",
       "        vertical-align: top;\n",
       "    }\n",
       "\n",
       "    .dataframe thead th {\n",
       "        text-align: right;\n",
       "    }\n",
       "</style>\n",
       "<table border=\"1\" class=\"dataframe\">\n",
       "  <thead>\n",
       "    <tr style=\"text-align: right;\">\n",
       "      <th></th>\n",
       "      <th>popularity</th>\n",
       "      <th>original_title</th>\n",
       "      <th>cast</th>\n",
       "      <th>director</th>\n",
       "      <th>runtime</th>\n",
       "      <th>genres</th>\n",
       "      <th>production_companies</th>\n",
       "      <th>release_date</th>\n",
       "      <th>vote_count</th>\n",
       "      <th>vote_average</th>\n",
       "      <th>release_year</th>\n",
       "      <th>budget_adj</th>\n",
       "      <th>revenue_adj</th>\n",
       "    </tr>\n",
       "  </thead>\n",
       "  <tbody>\n",
       "    <tr>\n",
       "      <th>0</th>\n",
       "      <td>32.985763</td>\n",
       "      <td>Jurassic World</td>\n",
       "      <td>Chris Pratt|Bryce Dallas Howard|Irrfan Khan|Vi...</td>\n",
       "      <td>Colin Trevorrow</td>\n",
       "      <td>124</td>\n",
       "      <td>Action|Adventure|Science Fiction|Thriller</td>\n",
       "      <td>Universal Studios|Amblin Entertainment|Legenda...</td>\n",
       "      <td>6/9/15</td>\n",
       "      <td>5562</td>\n",
       "      <td>6.5</td>\n",
       "      <td>2015</td>\n",
       "      <td>1.379999e+08</td>\n",
       "      <td>1.392446e+09</td>\n",
       "    </tr>\n",
       "    <tr>\n",
       "      <th>1</th>\n",
       "      <td>28.419936</td>\n",
       "      <td>Mad Max: Fury Road</td>\n",
       "      <td>Tom Hardy|Charlize Theron|Hugh Keays-Byrne|Nic...</td>\n",
       "      <td>George Miller</td>\n",
       "      <td>120</td>\n",
       "      <td>Action|Adventure|Science Fiction|Thriller</td>\n",
       "      <td>Village Roadshow Pictures|Kennedy Miller Produ...</td>\n",
       "      <td>5/13/15</td>\n",
       "      <td>6185</td>\n",
       "      <td>7.1</td>\n",
       "      <td>2015</td>\n",
       "      <td>1.379999e+08</td>\n",
       "      <td>3.481613e+08</td>\n",
       "    </tr>\n",
       "    <tr>\n",
       "      <th>2</th>\n",
       "      <td>13.112507</td>\n",
       "      <td>Insurgent</td>\n",
       "      <td>Shailene Woodley|Theo James|Kate Winslet|Ansel...</td>\n",
       "      <td>Robert Schwentke</td>\n",
       "      <td>119</td>\n",
       "      <td>Adventure|Science Fiction|Thriller</td>\n",
       "      <td>Summit Entertainment|Mandeville Films|Red Wago...</td>\n",
       "      <td>3/18/15</td>\n",
       "      <td>2480</td>\n",
       "      <td>6.3</td>\n",
       "      <td>2015</td>\n",
       "      <td>1.012000e+08</td>\n",
       "      <td>2.716190e+08</td>\n",
       "    </tr>\n",
       "    <tr>\n",
       "      <th>3</th>\n",
       "      <td>11.173104</td>\n",
       "      <td>Star Wars: The Force Awakens</td>\n",
       "      <td>Harrison Ford|Mark Hamill|Carrie Fisher|Adam D...</td>\n",
       "      <td>J.J. Abrams</td>\n",
       "      <td>136</td>\n",
       "      <td>Action|Adventure|Science Fiction|Fantasy</td>\n",
       "      <td>Lucasfilm|Truenorth Productions|Bad Robot</td>\n",
       "      <td>12/15/15</td>\n",
       "      <td>5292</td>\n",
       "      <td>7.5</td>\n",
       "      <td>2015</td>\n",
       "      <td>1.839999e+08</td>\n",
       "      <td>1.902723e+09</td>\n",
       "    </tr>\n",
       "    <tr>\n",
       "      <th>4</th>\n",
       "      <td>9.335014</td>\n",
       "      <td>Furious 7</td>\n",
       "      <td>Vin Diesel|Paul Walker|Jason Statham|Michelle ...</td>\n",
       "      <td>James Wan</td>\n",
       "      <td>137</td>\n",
       "      <td>Action|Crime|Thriller</td>\n",
       "      <td>Universal Pictures|Original Film|Media Rights ...</td>\n",
       "      <td>4/1/15</td>\n",
       "      <td>2947</td>\n",
       "      <td>7.3</td>\n",
       "      <td>2015</td>\n",
       "      <td>1.747999e+08</td>\n",
       "      <td>1.385749e+09</td>\n",
       "    </tr>\n",
       "  </tbody>\n",
       "</table>\n",
       "</div>"
      ],
      "text/plain": [
       "   popularity                original_title  \\\n",
       "0   32.985763                Jurassic World   \n",
       "1   28.419936            Mad Max: Fury Road   \n",
       "2   13.112507                     Insurgent   \n",
       "3   11.173104  Star Wars: The Force Awakens   \n",
       "4    9.335014                     Furious 7   \n",
       "\n",
       "                                                cast          director  \\\n",
       "0  Chris Pratt|Bryce Dallas Howard|Irrfan Khan|Vi...   Colin Trevorrow   \n",
       "1  Tom Hardy|Charlize Theron|Hugh Keays-Byrne|Nic...     George Miller   \n",
       "2  Shailene Woodley|Theo James|Kate Winslet|Ansel...  Robert Schwentke   \n",
       "3  Harrison Ford|Mark Hamill|Carrie Fisher|Adam D...       J.J. Abrams   \n",
       "4  Vin Diesel|Paul Walker|Jason Statham|Michelle ...         James Wan   \n",
       "\n",
       "   runtime                                     genres  \\\n",
       "0      124  Action|Adventure|Science Fiction|Thriller   \n",
       "1      120  Action|Adventure|Science Fiction|Thriller   \n",
       "2      119         Adventure|Science Fiction|Thriller   \n",
       "3      136   Action|Adventure|Science Fiction|Fantasy   \n",
       "4      137                      Action|Crime|Thriller   \n",
       "\n",
       "                                production_companies release_date  vote_count  \\\n",
       "0  Universal Studios|Amblin Entertainment|Legenda...       6/9/15        5562   \n",
       "1  Village Roadshow Pictures|Kennedy Miller Produ...      5/13/15        6185   \n",
       "2  Summit Entertainment|Mandeville Films|Red Wago...      3/18/15        2480   \n",
       "3          Lucasfilm|Truenorth Productions|Bad Robot     12/15/15        5292   \n",
       "4  Universal Pictures|Original Film|Media Rights ...       4/1/15        2947   \n",
       "\n",
       "   vote_average  release_year    budget_adj   revenue_adj  \n",
       "0           6.5          2015  1.379999e+08  1.392446e+09  \n",
       "1           7.1          2015  1.379999e+08  3.481613e+08  \n",
       "2           6.3          2015  1.012000e+08  2.716190e+08  \n",
       "3           7.5          2015  1.839999e+08  1.902723e+09  \n",
       "4           7.3          2015  1.747999e+08  1.385749e+09  "
      ]
     },
     "execution_count": 10,
     "metadata": {},
     "output_type": "execute_result"
    }
   ],
   "source": [
    "# Dropping these 2 columns budget and revenue because we have the budget_adj and revenue_adj columns which have been adjusted\n",
    "# to take into consideration the inflation  over time hence would be use these columns if we want to understand the value changes\n",
    "# over the years\n",
    "df.drop(columns=[\"budget\", \"revenue\"], inplace=True)\n",
    "\n",
    "# Displaying the first 5 rows to see if the columns have been dropped from the dataset\n",
    "df.head()"
   ]
  },
  {
   "cell_type": "markdown",
   "metadata": {},
   "source": [
    "> From the code input above two columns have been dropped from the output above we can see that the revenue and budget columns are no longer present in the dataset. And we are left with the revenue_adj and budget_adj"
   ]
  },
  {
   "cell_type": "markdown",
   "metadata": {},
   "source": [
    "> In the following cell below we drop all the Null values in the dataframe"
   ]
  },
  {
   "cell_type": "code",
   "execution_count": 11,
   "metadata": {},
   "outputs": [
    {
     "name": "stdout",
     "output_type": "stream",
     "text": [
      "<class 'pandas.core.frame.DataFrame'>\n",
      "Int64Index: 9773 entries, 0 to 10865\n",
      "Data columns (total 13 columns):\n",
      "popularity              9773 non-null float64\n",
      "original_title          9773 non-null object\n",
      "cast                    9773 non-null object\n",
      "director                9773 non-null object\n",
      "runtime                 9773 non-null int64\n",
      "genres                  9773 non-null object\n",
      "production_companies    9773 non-null object\n",
      "release_date            9773 non-null object\n",
      "vote_count              9773 non-null int64\n",
      "vote_average            9773 non-null float64\n",
      "release_year            9773 non-null int64\n",
      "budget_adj              9773 non-null float64\n",
      "revenue_adj             9773 non-null float64\n",
      "dtypes: float64(4), int64(3), object(6)\n",
      "memory usage: 1.0+ MB\n"
     ]
    }
   ],
   "source": [
    "# Dropping all the Null values\n",
    "df.dropna(inplace=True)\n",
    "# Checking to ensure we have no rows with missing values\n",
    "df.info()"
   ]
  },
  {
   "cell_type": "markdown",
   "metadata": {},
   "source": [
    "> All the columns are in the correct datatype, all the Null values have been dropped because all the columns have the same number of entries."
   ]
  },
  {
   "cell_type": "markdown",
   "metadata": {},
   "source": [
    ">**All the necessary cleaning of the dataset has been done, the dataset is ready for analysis for the questions posed**"
   ]
  },
  {
   "cell_type": "markdown",
   "metadata": {},
   "source": [
    "<a id='eda'></a>\n",
    "## Exploratory Data Analysis\n",
    "\n",
    "### Research Question 1 Which genre has the highest release of movies"
   ]
  },
  {
   "cell_type": "code",
   "execution_count": 12,
   "metadata": {},
   "outputs": [
    {
     "data": {
      "image/png": "[encoded data removed]",
      "text/plain": [
       "<matplotlib.figure.Figure at 0x7f25241ede10>"
      ]
     },
     "metadata": {
      "needs_background": "light"
     },
     "output_type": "display_data"
    }
   ],
   "source": [
    "# Creating a function that will split the genres and count the number movies in each genre\n",
    "\n",
    "#putting all the rows together using concatenation method then create a pandas series which will then be used to count the genres\n",
    "def genre_counter(genre):\n",
    "    concat_data = df[genre].str.cat(sep=\"|\")\n",
    "    pandas_series = pd.Series(concat_data.split(\"|\"))\n",
    "    genre_count = pandas_series.value_counts(ascending=False)\n",
    "    return genre_count\n",
    "\n",
    "# Calling the function to display the genres from the one with the highest movie release to the lowest\n",
    "count_genre = genre_counter(\"genres\")\n",
    "\n",
    "\n",
    "# Creating a horizontal bar chart to represent the number of movies produced with each genre\n",
    "count_genre.plot(kind=\"barh\", figsize= (14, 6), fontsize=10, color=\"blue\")\n",
    "plt.title(\"Genres Movie Count Release\")\n",
    "plt.xlabel(\"Number of Movies\")\n",
    "plt.ylabel(\"Genres\");"
   ]
  },
  {
   "cell_type": "markdown",
   "metadata": {},
   "source": [
    "#### An extension of question 1 where a box plot is used to explore the distribution of the number of movie genres"
   ]
  },
  {
   "cell_type": "code",
   "execution_count": 12,
   "metadata": {},
   "outputs": [
    {
     "data": {
      "image/png": "[encoded data removed]",
      "text/plain": [
       "<matplotlib.figure.Figure at 0x7f27ab35ec88>"
      ]
     },
     "metadata": {
      "needs_background": "light"
     },
     "output_type": "display_data"
    }
   ],
   "source": [
    "# Plotting a box plot to see the distribution of the count of movies in each genre\n",
    "plt.boxplot(count_genre);"
   ]
  },
  {
   "cell_type": "markdown",
   "metadata": {},
   "source": [
    ">We have an 2 outliers one above the "
   ]
  },
  {
   "cell_type": "markdown",
   "metadata": {},
   "source": [
    "#### Outcome of Analysis of Question 1\n",
    ">**From the Analysis the genre with the highest number of movies released is Drama followed by Comedy and the lowest is foreign"
   ]
  },
  {
   "cell_type": "markdown",
   "metadata": {},
   "source": [
    "### Research Question 2 Which year had highest budget allocated for a movie?\n",
    "> This question aims to identify the year which had the highest budget allocated to a movie"
   ]
  },
  {
   "cell_type": "code",
   "execution_count": 16,
   "metadata": {},
   "outputs": [
    {
     "name": "stdout",
     "output_type": "stream",
     "text": [
      "release_year\n",
      "2010    4.250000e+08\n",
      "2011    3.683713e+08\n",
      "2012    2.469335e+08\n",
      "2013    2.386885e+08\n",
      "2014    2.302728e+08\n",
      "2015    2.575999e+08\n",
      "Name: budget_adj, dtype: float64\n"
     ]
    },
    {
     "data": {
      "image/png": "[encoded data removed]",
      "text/plain": [
       "<matplotlib.figure.Figure at 0x7f8310e85898>"
      ]
     },
     "metadata": {
      "needs_background": "light"
     },
     "output_type": "display_data"
    }
   ],
   "source": [
    "# Finding the top 6 budgets allocated for movies \n",
    "year = df.groupby(\"release_year\").max()[\"budget_adj\"]\n",
    "year.sort_values()\n",
    "print(year.tail(6))\n",
    "\n",
    "# Plotting a bar chart to represent the highest budget allocated for a movie in each year from 1960 to 2015\n",
    "plt.bar(x=year.index, height=year.values)\n",
    "plt.xlabel(\"Year\")\n",
    "plt.ylabel(\"Budget\")\n",
    "plt.title(\"Year VS Budget Used\");\n"
   ]
  },
  {
   "cell_type": "markdown",
   "metadata": {},
   "source": [
    "> **Chart Analysis** From the chart we can clearly see the year with the highest budget is 2010 and looking at the chart we have had an increase in the money allocated for the budget of a movie over the years."
   ]
  },
  {
   "cell_type": "markdown",
   "metadata": {},
   "source": [
    "> Using a histogram to understand the distribution of budget "
   ]
  },
  {
   "cell_type": "code",
   "execution_count": 32,
   "metadata": {},
   "outputs": [
    {
     "data": {
      "image/png": "[encoded data removed]",
      "text/plain": [
       "<matplotlib.figure.Figure at 0x7f2523a4ab38>"
      ]
     },
     "metadata": {
      "needs_background": "light"
     },
     "output_type": "display_data"
    }
   ],
   "source": [
    "# Creating a histogram to see the distribution of the budget funds\n",
    "plt.hist(df[\"budget_adj\"], bins=20)\n",
    "plt.ylabel(\"budget\")\n",
    "plt.title(\"Distribution of the Budget for Movies\");"
   ]
  },
  {
   "cell_type": "markdown",
   "metadata": {},
   "source": [
    "> From the histogram above we see that most of the budget falls within the first 2 histogram bins"
   ]
  },
  {
   "cell_type": "markdown",
   "metadata": {},
   "source": []
  },
  {
   "cell_type": "markdown",
   "metadata": {},
   "source": [
    "#### Outcome of Analysis of Question 2\n",
    ">**From the Analysis the year with the highest budget used for movie production is 2010 followed by 2011. Further analysis can be conducted to see what was the revenue generated by the movies that invested a high budget in the movie production."
   ]
  },
  {
   "cell_type": "markdown",
   "metadata": {},
   "source": [
    "### Research Question 3 How does a movie's popularity relate to the budget used?\n",
    ">This question aims to understand if a relationship exists between a movie's popularity and the budget used for the creation of the movie"
   ]
  },
  {
   "cell_type": "code",
   "execution_count": 17,
   "metadata": {},
   "outputs": [
    {
     "name": "stdout",
     "output_type": "stream",
     "text": [
      "0.505372431434\n"
     ]
    },
    {
     "data": {
      "image/png": "[encoded data removed]",
      "text/plain": [
       "<matplotlib.figure.Figure at 0x7f8310d28b00>"
      ]
     },
     "metadata": {
      "needs_background": "light"
     },
     "output_type": "display_data"
    }
   ],
   "source": [
    "# Finding the mean popularity value for each year\n",
    "popularity_mean = df.groupby(\"release_year\")[\"popularity\"].mean()\n",
    "budget_mean = df.groupby(\"release_year\")[\"budget_adj\"].mean()\n",
    "\n",
    "#Creating a scatter plot of the mean for popularity and mean for budget for each year\n",
    "plt.scatter(x=budget_mean, y=popularity_mean)\n",
    "plt.xlabel(\"Budget\")\n",
    "plt.ylabel(\"Popularity\")\n",
    "plt.title(\"Movie Popularity vs Budget Used\");\n",
    "\n",
    "# Using the corr method to calculate the Pearson correlation coefficient to understand the exact relationship between \n",
    "# popularity and budget used\n",
    "movie_corr = df[\"budget_adj\"].corr(df[\"popularity\"])\n",
    "print(movie_corr)"
   ]
  },
  {
   "cell_type": "markdown",
   "metadata": {},
   "source": [
    ">**Scatter Plot Analysis** From the scatter plot we can clearly see we have a postive correlation between budget and the popularity of a movie"
   ]
  },
  {
   "cell_type": "markdown",
   "metadata": {},
   "source": [
    "#### Outcome of Analysis of Question 3\n",
    ">From the Analysis the correlation **0.505372431434** indicates we have a **positive correlation** hence we have a positive relationship between **popularity and the revenue generated**, the two variables are moderately corrrelated. This is can be an indication that popularity of a movie can be among the factors that play a role in the revenue generated from a movie.\n",
    "\n",
    ">Below more factors are explored to see how they relate to one another"
   ]
  },
  {
   "cell_type": "markdown",
   "metadata": {},
   "source": [
    "### Research Question 4 Which Actor has appeared in a large number of movies?\n",
    ">This question aims to identify the top 5 actors who have appeared in a large number of movies over the years"
   ]
  },
  {
   "cell_type": "code",
   "execution_count": 18,
   "metadata": {},
   "outputs": [
    {
     "name": "stdout",
     "output_type": "stream",
     "text": [
      "Robert De Niro       72\n",
      "Samuel L. Jackson    70\n",
      "Bruce Willis         62\n",
      "Nicolas Cage         61\n",
      "Michael Caine        52\n",
      "dtype: int64\n"
     ]
    },
    {
     "data": {
      "image/png": "[encoded data removed]",
      "text/plain": [
       "<matplotlib.figure.Figure at 0x7f831099cfd0>"
      ]
     },
     "metadata": {},
     "output_type": "display_data"
    }
   ],
   "source": [
    "# Count of the movies each actor has appeared in using the earlier function that was used to count the genre with highest movie\n",
    "# release\n",
    "cast_count = genre_counter(\"cast\")\n",
    "top_actors = cast_count.head()\n",
    "# Printing the top 5 actors\n",
    "print(top_actors)\n",
    "\n",
    "# Creating the labels that will be used on the pie chart \n",
    "labels = [\"Robert De Niro\", \"Samuel L. Jackson\", \"Bruce Willis\", \"Nicolas Cage\", \"Michael Caine\"]\n",
    "colors = ['gold', 'yellowgreen', 'lightcoral', 'lightskyblue', \"maroon\"]\n",
    "explode = [0.1, 0, 0, 0, 0]\n",
    "\n",
    "# Plotting a pie chart of the top 5 actors\n",
    "plt.pie(top_actors, explode=explode, colors=colors, labels=labels,\n",
    "autopct='%1.1f%%', shadow=True)\n",
    "plt.title(\"Top 5 Actors in Numerous Movie\");\n"
   ]
  },
  {
   "cell_type": "markdown",
   "metadata": {},
   "source": [
    ">**Pie Chart Analysis** From the pie chart we can see that the Actors with the largest percentage is Robert De Niro followed by Samuel L. Jackson closely behind"
   ]
  },
  {
   "cell_type": "markdown",
   "metadata": {},
   "source": [
    "#### Outcome of Analysis of Question 4\n",
    ">From the analysis the actor with the highest number of movies they have acted is **Robert De Niro** followed by **Samuel L. Jackson**. More research can be done to understand why they have more movies they have acted in apart from the age factor which could indicate they have stayed in the industry for long. Also more more research can be used to indicate the quality of work they do that could also be a factor to why they have acted in so many movies. This can help a casting director make the decision of which actor to include in a movie"
   ]
  },
  {
   "cell_type": "markdown",
   "metadata": {},
   "source": [
    "### Research Question 5 How does mean movie budget  relate to the mean revenue generated?\n",
    ">This question aims to understand if a relationship exists between the budget allocated for the movie creation and revenue generated."
   ]
  },
  {
   "cell_type": "code",
   "execution_count": 19,
   "metadata": {},
   "outputs": [
    {
     "name": "stdout",
     "output_type": "stream",
     "text": [
      "               revenue_adj    budget_adj\n",
      "release_year                            \n",
      "1960          3.340991e+07  5.082036e+06\n",
      "1961          8.212073e+07  1.121877e+07\n",
      "1962          5.179988e+07  1.314872e+07\n",
      "1963          3.924580e+07  1.535687e+07\n",
      "1964          5.846812e+07  6.770175e+06\n",
      "\n",
      "The revenue budget correlation is:0.640833096264\n"
     ]
    },
    {
     "data": {
      "image/png": "[encoded data removed]",
      "text/plain": [
       "<matplotlib.figure.Figure at 0x7f8310c6e7f0>"
      ]
     },
     "metadata": {
      "needs_background": "light"
     },
     "output_type": "display_data"
    }
   ],
   "source": [
    "# Grouping the data by the release year and getting the mean for revenue and budget for each year\n",
    "budget_revenue = df.groupby(\"release_year\")[\"revenue_adj\", \"budget_adj\"].mean()\n",
    "budget_revenue.sort_values(by=\"budget_adj\")\n",
    "\n",
    "# displaying the first 5 years and their associated mean revenue and budget\n",
    "print(budget_revenue.head())\n",
    "\n",
    "# Creating a scatter plot to see if a relationship exists between the high budget and revenue \n",
    "plt.figure(figsize=(10, 8))\n",
    "plt.scatter(x=df[\"budget_adj\"], y=df[\"revenue_adj\"])\n",
    "plt.title(\"Movie Revenue vs Budget\")\n",
    "plt.xlabel(\"Budget\")\n",
    "plt.ylabel(\"Revenue\");\n",
    "\n",
    "\n",
    "# Calculate the correlation between budget and revenue to get the atual value\n",
    "budg_revenuecorr = df[\"budget_adj\"].corr(df[\"revenue_adj\"])\n",
    "print(\"\\nThe revenue budget correlation is:\" + str(budg_revenuecorr))\n"
   ]
  },
  {
   "cell_type": "markdown",
   "metadata": {},
   "source": [
    ">**scatter plot analysis** We can see we have a positive correlation between the budget used and the revenue generated"
   ]
  },
  {
   "cell_type": "markdown",
   "metadata": {},
   "source": [
    "#### Outcome of Analysis of Question 5\n",
    ">From the Analysis the correlation **0.640833096264** indicates we have a **positive correlation** hence we have a positive relationship between **budget and the revenue generated**. This can be an indication that the budget of a movie can be among the factors that play a role in the revenue generated from a movie. Hence can help inform key stakeholders to consider the funds they decide to invest in the creation of a movie though should take into consideration that other factors play a role in the revenue generated. The positive correlation does not indicate that the selected budget causes the revenue generated."
   ]
  },
  {
   "cell_type": "markdown",
   "metadata": {},
   "source": [
    "### Research Question 6 Which year had the movie with the longest and shortest runtime?\n",
    ">This question aims to identify the year with the longest and shortest runtime"
   ]
  },
  {
   "cell_type": "code",
   "execution_count": 21,
   "metadata": {},
   "outputs": [
    {
     "name": "stdout",
     "output_type": "stream",
     "text": [
      "The top 5 longest movie runtime \n",
      " release_year\n",
      "2011    336.0\n",
      "2012    389.0\n",
      "2013    400.0\n",
      "2014    285.0\n",
      "2015    240.0\n",
      "Name: runtime, dtype: float64\n",
      "The top 5 shortest movie runtime \n",
      " release_year\n",
      "2011    3.0\n",
      "2012    6.0\n",
      "2013    4.0\n",
      "2014    3.0\n",
      "2015    4.0\n",
      "Name: runtime, dtype: float64\n"
     ]
    },
    {
     "data": {
      "image/png": "[encoded data removed]",
      "text/plain": [
       "<matplotlib.figure.Figure at 0x7f83107d1128>"
      ]
     },
     "metadata": {
      "needs_background": "light"
     },
     "output_type": "display_data"
    },
    {
     "data": {
      "image/png": "[encoded data removed]",
      "text/plain": [
       "<matplotlib.figure.Figure at 0x7f8310866400>"
      ]
     },
     "metadata": {
      "needs_background": "light"
     },
     "output_type": "display_data"
    }
   ],
   "source": [
    "# We have multiple runtime values equal to 0 hence replacing the values with NaN in order to find the actual min and maximum\n",
    "# runtime\n",
    "\n",
    "df[\"runtime\"] = df[\"runtime\"].replace({0:np.NaN})\n",
    "\n",
    "\n",
    "#Grouping the movies by the release year and getting the maximum and minimum runtime for each specific year\n",
    "max_runtime = df.groupby(\"release_year\")[\"runtime\"].max()\n",
    "min_runtime = df.groupby(\"release_year\")[\"runtime\"].min()\n",
    "\n",
    "max_runtime.sort_values()\n",
    "min_runtime.sort_values()\n",
    "\n",
    "# Printing out the top 5 longest and shortest movie runtimes\n",
    "print(\"The top 5 longest movie runtime \\n\", max_runtime.tail())\n",
    "print(\"The top 5 shortest movie runtime \\n\", min_runtime.tail())\n",
    "\n",
    "\n",
    "#Plotting the max and min runtime for movies in each year on a bar chart\n",
    "plt.figure(figsize=(10, 8))\n",
    "# plt.subplot(1, 2, 1)\n",
    "minimum_time =plt.bar(x=min_runtime.index, height=min_runtime.values, color=\"maroon\")\n",
    "plt.xlabel(\"Release year\")\n",
    "plt.ylabel(\"runtime\")\n",
    "plt.title(\"Shortest Runtime each year\")\n",
    "\n",
    "\n",
    "# Plotting the maximum runtime for movies in each year\n",
    "# plt.subplot(1, 2, 2)\n",
    "plt.figure(figsize=(10, 8))\n",
    "maximum_time=plt.bar(x=max_runtime.index, height=max_runtime.values, color=\"yellowgreen\")\n",
    "plt.xlabel(\"Release year\")\n",
    "plt.ylabel(\"runtime\")\n",
    "plt.title(\"Longest Runtime each years\");"
   ]
  },
  {
   "cell_type": "markdown",
   "metadata": {},
   "source": [
    ">**Graph Explanation** From the first graph for the \"Shortest Runtime each Year\" we see the year with the shortest runtime are 5 separate years whose runtime is less than 5. This could indicate that we may have had errors during data entry or further research needs to be done to understand why these years had movies whose runtime was very short.\n",
    "\n",
    ">While the second graph has the longest runtime being over 800"
   ]
  },
  {
   "cell_type": "markdown",
   "metadata": {},
   "source": [
    "#### Outcome of Analysis of Question 6\n",
    ">From the Analysis the longest runtime was in the year 2002 and the value is above 800 seconds according to the indication on the y-axis. While for the shortest runtime the years 2000, 2001, 2008, 2010 and 2011 the runtime is less than 5 "
   ]
  },
  {
   "cell_type": "markdown",
   "metadata": {},
   "source": [
    "<a id='conclusions'></a>\n",
    "## Conclusions\n",
    "\n",
    "> The following are the findings from the analysis done based on the questions posed:\n",
    "    <ul>\n",
    "        <li>The Genre with highest number of movies release is **Drama** followed by **comedy, thriller and Action**</li>\n",
    "        <li>The year with the highest budget for a movie produced is **2010** More research can be done to investigate why a specific movie had the highest budget and what was the success of the movie</li>\n",
    "        <li>A movie's popularity is **moderately correlated** to the budget allocated for a movie</li>\n",
    "        <li>The actor with the highest number of movies under his belt is **Robert De Niro**. More research can be done to understand why **Robert De Niro has acted in numerous movies and hence help in making the decision of how his presence in a movie would affect the budget and also revenue generated</li>\n",
    "        <li>The **revenue generated is directly connected** to the budget used, they have a positive correlation</li>\n",
    "        <li>The longest runtime was in the year 2002 and the value is above 800 seconds according to the indication on the y-axis of the bar chart. While for the shortest runtime the years 2000, 2001, 2008, 2010 and 2011 the runtime is less than 5</li>\n",
    "    </ul>\n",
    "  \n",
    "\n",
    "> **limitations**: The data on in the budget and revenue column had a lot of zeros and this could indicate either the data was not available or errors occured during the data entry process. Hence more research may need to be done to acquire the information as some of the analysis may not represent the actual trend.\n",
    "\n",
    "> We also had a lot of columns with missing data which had to be completely dropped and this could hinder the analysis of investigating the relationship between different variables as some of these variables have been completely removed.\n"
   ]
  },
  {
   "cell_type": "code",
   "execution_count": 33,
   "metadata": {},
   "outputs": [
    {
     "data": {
      "text/plain": [
       "0"
      ]
     },
     "execution_count": 33,
     "metadata": {},
     "output_type": "execute_result"
    }
   ],
   "source": [
    "from subprocess import call\n",
    "call(['python', '-m', 'nbconvert', 'Investigate_a_Dataset.ipynb'])"
   ]
  },
  {
   "cell_type": "code",
   "execution_count": null,
   "metadata": {},
   "outputs": [],
   "source": []
  }
 ],
 "metadata": {
  "kernelspec": {
   "display_name": "Python 3",
   "language": "python",
   "name": "python3"
  },
  "language_info": {
   "codemirror_mode": {
    "name": "ipython",
    "version": 3
   },
   "file_extension": ".py",
   "mimetype": "text/x-python",
   "name": "python",
   "nbconvert_exporter": "python",
   "pygments_lexer": "ipython3",
   "version": "3.6.3"
  }
 },
 "nbformat": 4,
 "nbformat_minor": 2
}
